{
 "cells": [
  {
   "cell_type": "markdown",
   "metadata": {},
   "source": [
    "# The Epitome of Salt's Sunrise Show: Bloomburrow (BLB)\n",
    "## Author: Kevin Stull\n",
    "## Guests: TODO\n",
    "## Card Names\n",
    "https://sealeddeck.tech/sets/blb"
   ]
  },
  {
   "cell_type": "code",
   "execution_count": 4,
   "metadata": {},
   "outputs": [],
   "source": [
    "# raters\n",
    "raters = ['Kevin', 'Nate', 'Josh']"
   ]
  },
  {
   "cell_type": "code",
   "execution_count": 5,
   "metadata": {},
   "outputs": [
    {
     "data": {
      "text/html": [
       "<div>\n",
       "<style scoped>\n",
       "    .dataframe tbody tr th:only-of-type {\n",
       "        vertical-align: middle;\n",
       "    }\n",
       "\n",
       "    .dataframe tbody tr th {\n",
       "        vertical-align: top;\n",
       "    }\n",
       "\n",
       "    .dataframe thead th {\n",
       "        text-align: right;\n",
       "    }\n",
       "</style>\n",
       "<table border=\"1\" class=\"dataframe\">\n",
       "  <thead>\n",
       "    <tr style=\"text-align: right;\">\n",
       "      <th></th>\n",
       "      <th>Name</th>\n",
       "      <th>Color</th>\n",
       "      <th>Rarity</th>\n",
       "      <th>Kevin</th>\n",
       "      <th>Kevin_num</th>\n",
       "      <th>Nate</th>\n",
       "      <th>Nate_num</th>\n",
       "      <th>Josh</th>\n",
       "      <th>Josh_num</th>\n",
       "    </tr>\n",
       "  </thead>\n",
       "  <tbody>\n",
       "    <tr>\n",
       "      <th>0</th>\n",
       "      <td>Brave-Kin Duo</td>\n",
       "      <td>W</td>\n",
       "      <td>C</td>\n",
       "      <td>C-</td>\n",
       "      <td>4.0</td>\n",
       "      <td>D+</td>\n",
       "      <td>3.0</td>\n",
       "      <td>D+</td>\n",
       "      <td>3.0</td>\n",
       "    </tr>\n",
       "    <tr>\n",
       "      <th>1</th>\n",
       "      <td>Crumb and Get It</td>\n",
       "      <td>W</td>\n",
       "      <td>C</td>\n",
       "      <td>C-</td>\n",
       "      <td>4.0</td>\n",
       "      <td>C-</td>\n",
       "      <td>4.0</td>\n",
       "      <td>C</td>\n",
       "      <td>5.0</td>\n",
       "    </tr>\n",
       "    <tr>\n",
       "      <th>2</th>\n",
       "      <td>Carrot Cake</td>\n",
       "      <td>W</td>\n",
       "      <td>C</td>\n",
       "      <td>C</td>\n",
       "      <td>5.0</td>\n",
       "      <td>C+</td>\n",
       "      <td>6.0</td>\n",
       "      <td>D</td>\n",
       "      <td>2.0</td>\n",
       "    </tr>\n",
       "    <tr>\n",
       "      <th>3</th>\n",
       "      <td>Lifecreed Duo</td>\n",
       "      <td>W</td>\n",
       "      <td>C</td>\n",
       "      <td>C</td>\n",
       "      <td>5.0</td>\n",
       "      <td>C</td>\n",
       "      <td>5.0</td>\n",
       "      <td>C+</td>\n",
       "      <td>6.0</td>\n",
       "    </tr>\n",
       "    <tr>\n",
       "      <th>4</th>\n",
       "      <td>Nettle Guard</td>\n",
       "      <td>W</td>\n",
       "      <td>C</td>\n",
       "      <td>C+</td>\n",
       "      <td>6.0</td>\n",
       "      <td>C+</td>\n",
       "      <td>6.0</td>\n",
       "      <td>C-</td>\n",
       "      <td>4.0</td>\n",
       "    </tr>\n",
       "    <tr>\n",
       "      <th>...</th>\n",
       "      <td>...</td>\n",
       "      <td>...</td>\n",
       "      <td>...</td>\n",
       "      <td>...</td>\n",
       "      <td>...</td>\n",
       "      <td>...</td>\n",
       "      <td>...</td>\n",
       "      <td>...</td>\n",
       "      <td>...</td>\n",
       "    </tr>\n",
       "    <tr>\n",
       "      <th>236</th>\n",
       "      <td>Starseer Mentor</td>\n",
       "      <td>M</td>\n",
       "      <td>U</td>\n",
       "      <td>B+</td>\n",
       "      <td>9.0</td>\n",
       "      <td>C-</td>\n",
       "      <td>4.0</td>\n",
       "      <td>B-</td>\n",
       "      <td>7.0</td>\n",
       "    </tr>\n",
       "    <tr>\n",
       "      <th>237</th>\n",
       "      <td>Stormcatch Mentor</td>\n",
       "      <td>M</td>\n",
       "      <td>U</td>\n",
       "      <td>C</td>\n",
       "      <td>5.0</td>\n",
       "      <td>C</td>\n",
       "      <td>5.0</td>\n",
       "      <td>C</td>\n",
       "      <td>5.0</td>\n",
       "    </tr>\n",
       "    <tr>\n",
       "      <th>238</th>\n",
       "      <td>Vinereap Mentor</td>\n",
       "      <td>M</td>\n",
       "      <td>U</td>\n",
       "      <td>B-</td>\n",
       "      <td>7.0</td>\n",
       "      <td>B-</td>\n",
       "      <td>7.0</td>\n",
       "      <td>B-</td>\n",
       "      <td>7.0</td>\n",
       "    </tr>\n",
       "    <tr>\n",
       "      <th>239</th>\n",
       "      <td>Seedglaive Mentor</td>\n",
       "      <td>M</td>\n",
       "      <td>U</td>\n",
       "      <td>B-</td>\n",
       "      <td>7.0</td>\n",
       "      <td>C+</td>\n",
       "      <td>6.0</td>\n",
       "      <td>B-</td>\n",
       "      <td>7.0</td>\n",
       "    </tr>\n",
       "    <tr>\n",
       "      <th>240</th>\n",
       "      <td>Lilysplash Mentor</td>\n",
       "      <td>M</td>\n",
       "      <td>U</td>\n",
       "      <td>B</td>\n",
       "      <td>8.0</td>\n",
       "      <td>C-</td>\n",
       "      <td>4.0</td>\n",
       "      <td>C</td>\n",
       "      <td>5.0</td>\n",
       "    </tr>\n",
       "  </tbody>\n",
       "</table>\n",
       "<p>241 rows × 9 columns</p>\n",
       "</div>"
      ],
      "text/plain": [
       "                  Name Color Rarity Kevin  Kevin_num Nate  Nate_num Josh  \\\n",
       "0        Brave-Kin Duo     W      C    C-        4.0   D+       3.0   D+   \n",
       "1     Crumb and Get It     W      C    C-        4.0   C-       4.0    C   \n",
       "2          Carrot Cake     W      C     C        5.0   C+       6.0    D   \n",
       "3        Lifecreed Duo     W      C     C        5.0    C       5.0   C+   \n",
       "4         Nettle Guard     W      C    C+        6.0   C+       6.0   C-   \n",
       "..                 ...   ...    ...   ...        ...  ...       ...  ...   \n",
       "236    Starseer Mentor     M      U    B+        9.0   C-       4.0   B-   \n",
       "237  Stormcatch Mentor     M      U     C        5.0    C       5.0    C   \n",
       "238    Vinereap Mentor     M      U    B-        7.0   B-       7.0   B-   \n",
       "239  Seedglaive Mentor     M      U    B-        7.0   C+       6.0   B-   \n",
       "240  Lilysplash Mentor     M      U     B        8.0   C-       4.0    C   \n",
       "\n",
       "     Josh_num  \n",
       "0         3.0  \n",
       "1         5.0  \n",
       "2         2.0  \n",
       "3         6.0  \n",
       "4         4.0  \n",
       "..        ...  \n",
       "236       7.0  \n",
       "237       5.0  \n",
       "238       7.0  \n",
       "239       7.0  \n",
       "240       5.0  \n",
       "\n",
       "[241 rows x 9 columns]"
      ]
     },
     "execution_count": 5,
     "metadata": {},
     "output_type": "execute_result"
    }
   ],
   "source": [
    "import pandas as pd\n",
    "import matplotlib.pyplot as plt\n",
    "from itertools import combinations\n",
    "\n",
    "def read_ratings(rater):\n",
    "    return pd.read_csv(f'data/{rater}.csv')\n",
    "\n",
    "eos = pd.DataFrame(columns=['Name', 'Color', 'Rarity'])\n",
    "tier_num = {'G':0., 'D-': 1., 'D': 2., 'D+': 3., \n",
    "            'C-': 4., 'C': 5., 'C+': 6., 'B-': 7., \n",
    "            'B': 8., 'B+': 9., 'A-': 10., 'A': 11., \n",
    "            'A+': 12.}\n",
    "_=True\n",
    "for rater in raters:\n",
    "    rater_data = read_ratings(rater)\n",
    "    if _:\n",
    "        eos['Name'] = rater_data['Name']\n",
    "        eos['Color'] = rater_data['Color']\n",
    "        eos['Rarity'] = rater_data['Rarity']\n",
    "        _ = False\n",
    "    eos[rater] = rater_data['Rating']\n",
    "    eos[f'{rater}_num'] = eos[rater].map(tier_num)\n",
    "eos = eos.dropna().copy()\n",
    "eos"
   ]
  },
  {
   "cell_type": "markdown",
   "metadata": {},
   "source": [
    "## Strongest Color Pairs"
   ]
  },
  {
   "cell_type": "code",
   "execution_count": 6,
   "metadata": {},
   "outputs": [
    {
     "data": {
      "text/plain": [
       "{('W', 'G'): 469.33333333333337,\n",
       " ('U', 'G'): 465.6666666666667,\n",
       " ('W', 'U'): 463.00000000000006,\n",
       " ('R', 'G'): 462.6666666666667,\n",
       " ('W', 'R'): 460.0,\n",
       " ('B', 'G'): 459.33333333333337,\n",
       " ('W', 'B'): 456.6666666666667,\n",
       " ('R', 'U'): 456.33333333333337,\n",
       " ('B', 'U'): 453.0,\n",
       " ('R', 'B'): 450.00000000000006}"
      ]
     },
     "execution_count": 6,
     "metadata": {},
     "output_type": "execute_result"
    }
   ],
   "source": [
    "colors = ['W', 'R', 'B', 'U', 'G']\n",
    "eos['Group'] = eos[[rater + '_num' for rater in raters]].sum(axis=1) / len(raters)\n",
    "color_pairs = list(combinations(colors, 2))\n",
    "color_pair_scores = {}\n",
    "for pair in color_pairs:\n",
    "    color1, color2 = pair\n",
    "    pair_column_name = f'{color1}_{color2}_total_score'\n",
    "    pair_rows = eos[(eos['Color'] == color1) | (eos['Color'] == color2)]\n",
    "    total_score = pair_rows['Group'].sum()\n",
    "    color_pair_scores[pair] = total_score\n",
    "\n",
    "sorted_color_pair_scores = dict(sorted(color_pair_scores.items(), key=lambda item: item[1], reverse=True))\n",
    "sorted_color_pair_scores"
   ]
  },
  {
   "cell_type": "markdown",
   "metadata": {},
   "source": [
    "## Best Commons by Color"
   ]
  },
  {
   "cell_type": "code",
   "execution_count": 7,
   "metadata": {},
   "outputs": [
    {
     "name": "stdout",
     "output_type": "stream",
     "text": [
      "                  Name Color    Group\n",
      "      Nocturnal Hunger     B 7.000000\n",
      "                 Savor     B 6.333333\n",
      "       Bonebind Orator     B 4.666667\n",
      "     Fountainport Bell     C 4.666667\n",
      "         Hidden Grotto     C 4.333333\n",
      "     Three Tree Mascot     C 3.666667\n",
      "       Longstalk Brawl     G 6.000000\n",
      "        Bakersbane Duo     G 6.000000\n",
      " Three Tree Rootweaver     G 6.000000\n",
      " Head of the Homestead     M 6.333333\n",
      "Corpseberry Cultivator     M 6.000000\n",
      "     Junkblade Bruiser     M 5.666667\n",
      "    Take Out the Trash     R 6.666667\n",
      "   Whiskerquill Scribe     R 5.333333\n",
      "         Roughshod Duo     R 5.333333\n",
      "              Shore Up     U 5.666667\n",
      "        Lightshell Duo     U 5.666667\n",
      "        Dire Downdraft     U 5.333333\n",
      "       Banishing Light     W 7.333333\n",
      "       Rabbit Response     W 5.666667\n",
      "         Lifecreed Duo     W 5.333333\n"
     ]
    }
   ],
   "source": [
    "eos_commons = eos[eos['Rarity'] == 'C']\n",
    "top_cards_by_color = eos_commons.groupby('Color').apply(lambda x: x.nlargest(3, 'Group')).reset_index(drop=True)\n",
    "print(top_cards_by_color[['Name', 'Color', 'Group']].to_string(index=False))"
   ]
  },
  {
   "cell_type": "markdown",
   "metadata": {},
   "source": [
    "## Best Uncommons by Color"
   ]
  },
  {
   "cell_type": "code",
   "execution_count": 8,
   "metadata": {},
   "outputs": [
    {
     "name": "stdout",
     "output_type": "stream",
     "text": [
      "                   Name Color    Group\n",
      "         Feed the Cycle     B 7.666667\n",
      "                   Fell     B 7.000000\n",
      "Thought-Stalker Warlock     B 7.000000\n",
      "        Uncharted Haven     C 6.000000\n",
      "         Tangle Tumbler     C 4.000000\n",
      "          Heirloom Epic     C 3.333333\n",
      "        Bushy Bodyguard     G 7.333333\n",
      "        Hunter's Talent     G 6.333333\n",
      "   Brambleguard Veteran     G 6.333333\n",
      "     Burrowguard Mentor     M 7.000000\n",
      "        Vinereap Mentor     M 7.000000\n",
      "        Starseer Mentor     M 6.666667\n",
      "             Rabid Gnaw     R 6.666667\n",
      "         Heartfire Hero     R 6.333333\n",
      "       Brazen Collector     R 6.333333\n",
      "          Eddymurk Crab     U 7.000000\n",
      "        Lilypad Village     U 6.333333\n",
      "     Into the Flood Maw     U 6.333333\n",
      "      Brightblade Stoat     W 7.000000\n",
      "              Hop to It     W 6.333333\n",
      " Flowerfoot Swordmaster     W 6.000000\n"
     ]
    }
   ],
   "source": [
    "eos_uncommons = eos[eos['Rarity'] == 'U']\n",
    "top_cards_by_color = eos_uncommons.groupby('Color').apply(lambda x: x.nlargest(3, 'Group')).reset_index(drop=True)\n",
    "print(top_cards_by_color[['Name', 'Color', 'Group']].to_string(index=False))"
   ]
  },
  {
   "cell_type": "markdown",
   "metadata": {},
   "source": [
    "## Goodest Art "
   ]
  },
  {
   "cell_type": "code",
   "execution_count": 9,
   "metadata": {},
   "outputs": [
    {
     "name": "stdout",
     "output_type": "stream",
     "text": [
      "             Name    Group\n",
      "        Wear Down 1.333333\n",
      " Starforged Sword 1.333333\n",
      "Nightwhorl Hermit 2.000000\n"
     ]
    }
   ],
   "source": [
    "sorted_eos = eos.sort_values(by='Group', ascending=True).copy()\n",
    "print(sorted_eos[['Name', 'Group']][:3].to_string(index=False))"
   ]
  },
  {
   "cell_type": "markdown",
   "metadata": {},
   "source": [
    "## Highest Variance"
   ]
  },
  {
   "cell_type": "code",
   "execution_count": 10,
   "metadata": {},
   "outputs": [
    {
     "name": "stdout",
     "output_type": "stream",
     "text": [
      "                  Name  Variance\n",
      "          Wishing Well 27.000000\n",
      "      Mistbreath Elder 16.333333\n",
      "        Darkstar Augur 16.333333\n",
      "        Manifold Mouse 13.000000\n",
      "     Essence Channeler 10.333333\n",
      "    Bonecache Overseer 10.333333\n",
      "Wick, the Whorled Mind  9.000000\n",
      "    Scavenger's Talent  9.000000\n",
      "         Wick's Patrol  8.333333\n",
      "            Hired Claw  7.000000\n",
      "          Fountainport  6.333333\n",
      "   For the Common Good  6.333333\n",
      "       Starseer Mentor  6.333333\n",
      "          Dawn's Truce  5.333333\n",
      "     Three Tree Scribe  5.333333\n"
     ]
    }
   ],
   "source": [
    "eos['Variance'] = eos[[rater + '_num' for rater in raters]].var(axis=1)\n",
    "sorted_eos = eos.sort_values(by='Variance', ascending=False).copy()\n",
    "print(sorted_eos[['Name', 'Variance']][:15].to_string(index=False))"
   ]
  },
  {
   "cell_type": "markdown",
   "metadata": {},
   "source": [
    "## Hottest Takes \n"
   ]
  },
  {
   "cell_type": "code",
   "execution_count": 11,
   "metadata": {},
   "outputs": [
    {
     "name": "stdout",
     "output_type": "stream",
     "text": [
      "          Name  Kevin_Hot_Take\n",
      "  Wishing Well             9.0\n",
      "Darkstar Augur             7.0\n",
      " Wick's Patrol             5.0\n",
      "\n",
      "             Name  Nate_Hot_Take\n",
      " Mistbreath Elder            7.0\n",
      "   Manifold Mouse            6.0\n",
      "Essence Channeler            5.5\n",
      "\n",
      "                  Name  Josh_Hot_Take\n",
      "    Bonecache Overseer            5.5\n",
      "        Manifold Mouse            4.5\n",
      "Wick, the Whorled Mind            4.5\n",
      "\n"
     ]
    }
   ],
   "source": [
    "for rater in raters:\n",
    "    other_raters = [col for col in eos.columns if col.endswith('_num') and col != f'{rater}_num']\n",
    "    eos[f'{rater}_mean'] = eos[other_raters].mean(axis=1)\n",
    "\n",
    "for rater in raters:\n",
    "    eos[f'{rater}_Hot_Take'] = abs(eos[f'{rater}_num'] - eos[f'{rater}_mean'])\n",
    "\n",
    "for rater in raters:\n",
    "    sorted_eos = eos.sort_values(by= rater + '_Hot_Take', ascending=False).copy()\n",
    "    print(sorted_eos[['Name', rater + '_Hot_Take']][:3].to_string(index=False))\n",
    "    print()"
   ]
  },
  {
   "cell_type": "code",
   "execution_count": null,
   "metadata": {},
   "outputs": [],
   "source": []
  }
 ],
 "metadata": {
  "kernelspec": {
   "display_name": "ML",
   "language": "python",
   "name": "python3"
  },
  "language_info": {
   "codemirror_mode": {
    "name": "ipython",
    "version": 3
   },
   "file_extension": ".py",
   "mimetype": "text/x-python",
   "name": "python",
   "nbconvert_exporter": "python",
   "pygments_lexer": "ipython3",
   "version": "3.9.6"
  }
 },
 "nbformat": 4,
 "nbformat_minor": 2
}
