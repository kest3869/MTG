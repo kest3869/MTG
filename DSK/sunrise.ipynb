{
 "cells": [
  {
   "cell_type": "markdown",
   "metadata": {},
   "source": [
    "# The Epitome of Salt's Sunrise Show: Duskmourne (DSK)\n",
    "## Author: Kevin Stull\n",
    "## Guests: Nate, Josh\n",
    "## Card Names\n",
    "https://sealeddeck.tech/sets/dsk"
   ]
  },
  {
   "cell_type": "code",
   "execution_count": 6,
   "metadata": {},
   "outputs": [],
   "source": [
    "# raters\n",
    "raters = ['Kevin', 'Nate']"
   ]
  },
  {
   "cell_type": "code",
   "execution_count": 7,
   "metadata": {},
   "outputs": [
    {
     "data": {
      "text/html": [
       "<div>\n",
       "<style scoped>\n",
       "    .dataframe tbody tr th:only-of-type {\n",
       "        vertical-align: middle;\n",
       "    }\n",
       "\n",
       "    .dataframe tbody tr th {\n",
       "        vertical-align: top;\n",
       "    }\n",
       "\n",
       "    .dataframe thead th {\n",
       "        text-align: right;\n",
       "    }\n",
       "</style>\n",
       "<table border=\"1\" class=\"dataframe\">\n",
       "  <thead>\n",
       "    <tr style=\"text-align: right;\">\n",
       "      <th></th>\n",
       "      <th>Name</th>\n",
       "      <th>Color</th>\n",
       "      <th>Rarity</th>\n",
       "      <th>Kevin</th>\n",
       "      <th>Kevin_num</th>\n",
       "      <th>Nate</th>\n",
       "      <th>Nate_num</th>\n",
       "    </tr>\n",
       "  </thead>\n",
       "  <tbody>\n",
       "    <tr>\n",
       "      <th>0</th>\n",
       "      <td>Jump Scare</td>\n",
       "      <td>W</td>\n",
       "      <td>C</td>\n",
       "      <td>C+</td>\n",
       "      <td>6.0</td>\n",
       "      <td>C</td>\n",
       "      <td>5.0</td>\n",
       "    </tr>\n",
       "    <tr>\n",
       "      <th>1</th>\n",
       "      <td>Acrobatic Cheerleader</td>\n",
       "      <td>W</td>\n",
       "      <td>C</td>\n",
       "      <td>C</td>\n",
       "      <td>5.0</td>\n",
       "      <td>C-</td>\n",
       "      <td>4.0</td>\n",
       "    </tr>\n",
       "    <tr>\n",
       "      <th>2</th>\n",
       "      <td>Fear of Surveillance</td>\n",
       "      <td>W</td>\n",
       "      <td>C</td>\n",
       "      <td>C-</td>\n",
       "      <td>4.0</td>\n",
       "      <td>C</td>\n",
       "      <td>5.0</td>\n",
       "    </tr>\n",
       "    <tr>\n",
       "      <th>3</th>\n",
       "      <td>Grand Entryway // Elegant Rotunda</td>\n",
       "      <td>W</td>\n",
       "      <td>C</td>\n",
       "      <td>C+</td>\n",
       "      <td>6.0</td>\n",
       "      <td>B-</td>\n",
       "      <td>7.0</td>\n",
       "    </tr>\n",
       "    <tr>\n",
       "      <th>4</th>\n",
       "      <td>Cult Healer</td>\n",
       "      <td>W</td>\n",
       "      <td>C</td>\n",
       "      <td>C-</td>\n",
       "      <td>4.0</td>\n",
       "      <td>C</td>\n",
       "      <td>5.0</td>\n",
       "    </tr>\n",
       "    <tr>\n",
       "      <th>...</th>\n",
       "      <td>...</td>\n",
       "      <td>...</td>\n",
       "      <td>...</td>\n",
       "      <td>...</td>\n",
       "      <td>...</td>\n",
       "      <td>...</td>\n",
       "      <td>...</td>\n",
       "    </tr>\n",
       "    <tr>\n",
       "      <th>266</th>\n",
       "      <td>Monsterous Emergence</td>\n",
       "      <td>G</td>\n",
       "      <td>C</td>\n",
       "      <td>B</td>\n",
       "      <td>8.0</td>\n",
       "      <td>B-</td>\n",
       "      <td>7.0</td>\n",
       "    </tr>\n",
       "    <tr>\n",
       "      <th>267</th>\n",
       "      <td>Moldering Gym // Weight Room</td>\n",
       "      <td>G</td>\n",
       "      <td>C</td>\n",
       "      <td>C</td>\n",
       "      <td>5.0</td>\n",
       "      <td>C</td>\n",
       "      <td>5.0</td>\n",
       "    </tr>\n",
       "    <tr>\n",
       "      <th>268</th>\n",
       "      <td>Walk-In Closet // Forgotten Cellar</td>\n",
       "      <td>G</td>\n",
       "      <td>M</td>\n",
       "      <td>G</td>\n",
       "      <td>0.0</td>\n",
       "      <td>C-</td>\n",
       "      <td>4.0</td>\n",
       "    </tr>\n",
       "    <tr>\n",
       "      <th>269</th>\n",
       "      <td>Shroudstomper</td>\n",
       "      <td>M</td>\n",
       "      <td>U</td>\n",
       "      <td>C-</td>\n",
       "      <td>4.0</td>\n",
       "      <td>C-</td>\n",
       "      <td>4.0</td>\n",
       "    </tr>\n",
       "    <tr>\n",
       "      <th>270</th>\n",
       "      <td>Roaring Furnace // Steaming Sauna</td>\n",
       "      <td>M</td>\n",
       "      <td>R</td>\n",
       "      <td>B</td>\n",
       "      <td>8.0</td>\n",
       "      <td>B</td>\n",
       "      <td>8.0</td>\n",
       "    </tr>\n",
       "  </tbody>\n",
       "</table>\n",
       "<p>271 rows × 7 columns</p>\n",
       "</div>"
      ],
      "text/plain": [
       "                                   Name Color Rarity Kevin  Kevin_num Nate  \\\n",
       "0                            Jump Scare     W      C    C+        6.0    C   \n",
       "1                 Acrobatic Cheerleader     W      C     C        5.0   C-   \n",
       "2                  Fear of Surveillance     W      C    C-        4.0    C   \n",
       "3     Grand Entryway // Elegant Rotunda     W      C    C+        6.0   B-   \n",
       "4                           Cult Healer     W      C    C-        4.0    C   \n",
       "..                                  ...   ...    ...   ...        ...  ...   \n",
       "266                Monsterous Emergence     G      C     B        8.0   B-   \n",
       "267        Moldering Gym // Weight Room     G      C     C        5.0    C   \n",
       "268  Walk-In Closet // Forgotten Cellar     G      M     G        0.0   C-   \n",
       "269                       Shroudstomper     M      U    C-        4.0   C-   \n",
       "270   Roaring Furnace // Steaming Sauna     M      R     B        8.0    B   \n",
       "\n",
       "     Nate_num  \n",
       "0         5.0  \n",
       "1         4.0  \n",
       "2         5.0  \n",
       "3         7.0  \n",
       "4         5.0  \n",
       "..        ...  \n",
       "266       7.0  \n",
       "267       5.0  \n",
       "268       4.0  \n",
       "269       4.0  \n",
       "270       8.0  \n",
       "\n",
       "[271 rows x 7 columns]"
      ]
     },
     "execution_count": 7,
     "metadata": {},
     "output_type": "execute_result"
    }
   ],
   "source": [
    "import pandas as pd\n",
    "import matplotlib.pyplot as plt\n",
    "from itertools import combinations\n",
    "\n",
    "def read_ratings(rater):\n",
    "    return pd.read_csv(f'data/{rater}.csv')\n",
    "\n",
    "eos = pd.DataFrame(columns=['Name', 'Color', 'Rarity'])\n",
    "tier_num = {'G':0., 'D-': 1., 'D': 2., 'D+': 3., \n",
    "            'C-': 4., 'C': 5., 'C+': 6., 'B-': 7., \n",
    "            'B': 8., 'B+': 9., 'A-': 10., 'A': 11., \n",
    "            'A+': 12.}\n",
    "_=True\n",
    "for rater in raters:\n",
    "    rater_data = read_ratings(rater)\n",
    "    if _:\n",
    "        eos['Name'] = rater_data['Name']\n",
    "        eos['Color'] = rater_data['Color']\n",
    "        eos['Rarity'] = rater_data['Rarity']\n",
    "        _ = False\n",
    "    eos[rater] = rater_data['Rating']\n",
    "    eos[f'{rater}_num'] = eos[rater].map(tier_num)\n",
    "eos = eos.dropna().copy()\n",
    "eos"
   ]
  },
  {
   "cell_type": "markdown",
   "metadata": {},
   "source": [
    "## Strongest Color Pairs"
   ]
  },
  {
   "cell_type": "code",
   "execution_count": 8,
   "metadata": {},
   "outputs": [
    {
     "data": {
      "text/plain": [
       "{('R', 'G'): 469.0,\n",
       " ('W', 'G'): 461.5,\n",
       " ('U', 'G'): 450.0,\n",
       " ('W', 'R'): 449.5,\n",
       " ('B', 'G'): 445.0,\n",
       " ('R', 'U'): 438.0,\n",
       " ('R', 'B'): 433.0,\n",
       " ('W', 'U'): 430.5,\n",
       " ('W', 'B'): 425.5,\n",
       " ('B', 'U'): 414.0}"
      ]
     },
     "execution_count": 8,
     "metadata": {},
     "output_type": "execute_result"
    }
   ],
   "source": [
    "colors = ['W', 'R', 'B', 'U', 'G']\n",
    "eos['Group'] = eos[[rater + '_num' for rater in raters]].sum(axis=1) / len(raters)\n",
    "color_pairs = list(combinations(colors, 2))\n",
    "color_pair_scores = {}\n",
    "for pair in color_pairs:\n",
    "    color1, color2 = pair\n",
    "    pair_column_name = f'{color1}_{color2}_total_score'\n",
    "    pair_rows = eos[(eos['Color'] == color1) | (eos['Color'] == color2)]\n",
    "    total_score = pair_rows['Group'].sum()\n",
    "    color_pair_scores[pair] = total_score\n",
    "\n",
    "sorted_color_pair_scores = dict(sorted(color_pair_scores.items(), key=lambda item: item[1], reverse=True))\n",
    "sorted_color_pair_scores"
   ]
  },
  {
   "cell_type": "markdown",
   "metadata": {},
   "source": [
    "## Best Commons by Color"
   ]
  },
  {
   "cell_type": "code",
   "execution_count": 9,
   "metadata": {},
   "outputs": [
    {
     "name": "stdout",
     "output_type": "stream",
     "text": [
      "                               Name Color  Group\n",
      "              Winter's Intervention     B    7.5\n",
      "                             Murder     B    5.5\n",
      "     Direlect Attic // Widow's Walk     B    5.5\n",
      "                   Raucous Carnival     C    7.5\n",
      "                     Bleeding Woods     C    6.0\n",
      "               Abandoned Campground     C    6.0\n",
      "               Monsterous Emergence     G    7.5\n",
      "              Spineseeker Centipede     G    6.5\n",
      "                     Flesh Burrower     G    6.0\n",
      "       Glassworks // Shattered Yard     R    7.5\n",
      "               Scorching Dragonfire     R    6.5\n",
      "     Ticket Booth // Tunnel of Hate     R    6.0\n",
      "       Meat Locker // Drowned Diner     U    7.5\n",
      "                    Tunnel Surveyor     U    7.0\n",
      "Underwater Tunnel // Slimy Aquarium     U    6.0\n",
      "                   Unsettling Twins     W    7.0\n",
      "  Grand Entryway // Elegant Rotunda     W    6.5\n",
      "              Trapped in the Screen     W    6.5\n"
     ]
    },
    {
     "name": "stderr",
     "output_type": "stream",
     "text": [
      "/tmp/ipykernel_34016/3415928166.py:2: DeprecationWarning: DataFrameGroupBy.apply operated on the grouping columns. This behavior is deprecated, and in a future version of pandas the grouping columns will be excluded from the operation. Either pass `include_groups=False` to exclude the groupings or explicitly select the grouping columns after groupby to silence this warning.\n",
      "  top_cards_by_color = eos_commons.groupby('Color').apply(lambda x: x.nlargest(3, 'Group')).reset_index(drop=True)\n"
     ]
    }
   ],
   "source": [
    "eos_commons = eos[eos['Rarity'] == 'C']\n",
    "top_cards_by_color = eos_commons.groupby('Color').apply(lambda x: x.nlargest(3, 'Group')).reset_index(drop=True)\n",
    "print(top_cards_by_color[['Name', 'Color', 'Group']].to_string(index=False))"
   ]
  },
  {
   "cell_type": "markdown",
   "metadata": {},
   "source": [
    "## Best Uncommons by Color"
   ]
  },
  {
   "cell_type": "code",
   "execution_count": 10,
   "metadata": {},
   "outputs": [
    {
     "name": "stdout",
     "output_type": "stream",
     "text": [
      "                               Name Color  Group\n",
      "                     Nowhere to Run     B    9.0\n",
      "                  Withering Torment     B    8.0\n",
      "               Osseous Sticktwister     B    7.5\n",
      "                  Keys to the House     C    3.5\n",
      "                  Attack-in-the-Box     C    3.0\n",
      "                 Conductive Machete     C    3.0\n",
      "                   Insidious Fungus     G    7.0\n",
      "                Wickerfolk Thresher     G    6.5\n",
      "             Coordinated Clobbering     G    6.0\n",
      "                Inquisitive Glimmer     M    8.5\n",
      "                Wildfire Wickerfolk     M    8.5\n",
      "                       Broodspinner     M    8.5\n",
      "                         Piggy Bank     R    8.0\n",
      "                 Irreverent Gremlin     R    7.0\n",
      "Painter's Studio // Defaced Gallery     R    7.0\n",
      "     Bottomless Pool // Locker Room     U    7.0\n",
      "                  Floodpits Drowner     U    6.5\n",
      "                    Unnerving Grasp     U    6.5\n",
      "                     Splitskin Doll     W    6.5\n",
      "                  Patched Plaything     W    6.5\n",
      "               Orphans of the Wheat     W    6.0\n"
     ]
    },
    {
     "name": "stderr",
     "output_type": "stream",
     "text": [
      "/tmp/ipykernel_34016/3762583249.py:2: DeprecationWarning: DataFrameGroupBy.apply operated on the grouping columns. This behavior is deprecated, and in a future version of pandas the grouping columns will be excluded from the operation. Either pass `include_groups=False` to exclude the groupings or explicitly select the grouping columns after groupby to silence this warning.\n",
      "  top_cards_by_color = eos_uncommons.groupby('Color').apply(lambda x: x.nlargest(3, 'Group')).reset_index(drop=True)\n"
     ]
    }
   ],
   "source": [
    "eos_uncommons = eos[eos['Rarity'] == 'U']\n",
    "top_cards_by_color = eos_uncommons.groupby('Color').apply(lambda x: x.nlargest(3, 'Group')).reset_index(drop=True)\n",
    "print(top_cards_by_color[['Name', 'Color', 'Group']].to_string(index=False))"
   ]
  },
  {
   "cell_type": "markdown",
   "metadata": {},
   "source": [
    "## Goodest Art "
   ]
  },
  {
   "cell_type": "code",
   "execution_count": 11,
   "metadata": {},
   "outputs": [
    {
     "name": "stdout",
     "output_type": "stream",
     "text": [
      "                      Name  Group\n",
      "       Leyline of Mutation    0.0\n",
      " Leyline of Transformation    0.5\n",
      "Marina Vendrell's Grimoire    1.0\n"
     ]
    }
   ],
   "source": [
    "sorted_eos = eos.sort_values(by='Group', ascending=True).copy()\n",
    "print(sorted_eos[['Name', 'Group']][:3].to_string(index=False))"
   ]
  },
  {
   "cell_type": "markdown",
   "metadata": {},
   "source": [
    "## Highest Variance"
   ]
  },
  {
   "cell_type": "code",
   "execution_count": 12,
   "metadata": {},
   "outputs": [
    {
     "name": "stdout",
     "output_type": "stream",
     "text": [
      "                                 Name  Variance\n",
      "Dollmaker's Shop // Porcelain Gallery      18.0\n",
      "            Overlord of the Mistmoors      12.5\n",
      "                The Jolly Balloon Man      12.5\n",
      "             Overlord of the Balemurk      12.5\n",
      "               Duskmourn's Domination      12.5\n",
      "                       Trial of Agony       8.0\n",
      "                           Piggy Bank       8.0\n",
      "              Zimone, All-Questioning       8.0\n",
      "                  Vengeful Possession       8.0\n",
      "    Restricted Office // Lecture Hall       8.0\n",
      "           Overlord of the Hauntwoods       8.0\n",
      "        Charred Foyer // Warped Space       8.0\n",
      "                     Enduring Courage       8.0\n",
      "                      The Mindskinner       8.0\n",
      "         Defiled Crypt // Cadaver Lab       8.0\n"
     ]
    }
   ],
   "source": [
    "eos['Variance'] = eos[[rater + '_num' for rater in raters]].var(axis=1)\n",
    "sorted_eos = eos.sort_values(by='Variance', ascending=False).copy()\n",
    "print(sorted_eos[['Name', 'Variance']][:15].to_string(index=False))"
   ]
  },
  {
   "cell_type": "markdown",
   "metadata": {},
   "source": [
    "## Hottest Takes \n"
   ]
  },
  {
   "cell_type": "code",
   "execution_count": 13,
   "metadata": {},
   "outputs": [
    {
     "name": "stdout",
     "output_type": "stream",
     "text": [
      "                                 Name  Kevin_Hot_Take\n",
      "Dollmaker's Shop // Porcelain Gallery             6.0\n",
      "            Overlord of the Mistmoors             5.0\n",
      "                The Jolly Balloon Man             5.0\n",
      "\n",
      "                                 Name  Nate_Hot_Take\n",
      "Dollmaker's Shop // Porcelain Gallery            6.0\n",
      "            Overlord of the Mistmoors            5.0\n",
      "                The Jolly Balloon Man            5.0\n",
      "\n"
     ]
    }
   ],
   "source": [
    "for rater in raters:\n",
    "    other_raters = [col for col in eos.columns if col.endswith('_num') and col != f'{rater}_num']\n",
    "    eos[f'{rater}_mean'] = eos[other_raters].mean(axis=1)\n",
    "\n",
    "for rater in raters:\n",
    "    eos[f'{rater}_Hot_Take'] = abs(eos[f'{rater}_num'] - eos[f'{rater}_mean'])\n",
    "\n",
    "for rater in raters:\n",
    "    sorted_eos = eos.sort_values(by= rater + '_Hot_Take', ascending=False).copy()\n",
    "    print(sorted_eos[['Name', rater + '_Hot_Take']][:3].to_string(index=False))\n",
    "    print()"
   ]
  },
  {
   "cell_type": "code",
   "execution_count": null,
   "metadata": {},
   "outputs": [],
   "source": []
  }
 ],
 "metadata": {
  "kernelspec": {
   "display_name": "ML",
   "language": "python",
   "name": "python3"
  },
  "language_info": {
   "codemirror_mode": {
    "name": "ipython",
    "version": 3
   },
   "file_extension": ".py",
   "mimetype": "text/x-python",
   "name": "python",
   "nbconvert_exporter": "python",
   "pygments_lexer": "ipython3",
   "version": "3.10.13"
  }
 },
 "nbformat": 4,
 "nbformat_minor": 2
}
