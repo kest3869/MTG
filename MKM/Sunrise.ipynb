{
 "cells": [
  {
   "cell_type": "markdown",
   "metadata": {},
   "source": [
    "# The Epitome of Salt's Sunrise Show: Murder at Karlov Manor (MKM)\n",
    "## Author: Kevin Stull\n",
    "## Guests: Collin, Jon, Josh, Nate "
   ]
  },
  {
   "cell_type": "code",
   "execution_count": null,
   "metadata": {},
   "outputs": [],
   "source": []
  }
 ],
 "metadata": {
  "language_info": {
   "name": "python"
  }
 },
 "nbformat": 4,
 "nbformat_minor": 2
}
