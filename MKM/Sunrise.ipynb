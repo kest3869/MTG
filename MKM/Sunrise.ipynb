{
 "cells": [
  {
   "cell_type": "markdown",
   "metadata": {},
   "source": [
    "# The Epitome of Salt's Sunrise Show: Murder at Karlov Manor (MKM)\n",
    "## Author: Kevin Stull\n",
    "## Guests: Jon, Josh, Nate \n",
    "## Card Names\n",
    "https://sealeddeck.tech/sets/mkm"
   ]
  },
  {
   "cell_type": "code",
   "execution_count": 1,
   "metadata": {},
   "outputs": [
    {
     "data": {
      "text/html": [
       "<div>\n",
       "<style scoped>\n",
       "    .dataframe tbody tr th:only-of-type {\n",
       "        vertical-align: middle;\n",
       "    }\n",
       "\n",
       "    .dataframe tbody tr th {\n",
       "        vertical-align: top;\n",
       "    }\n",
       "\n",
       "    .dataframe thead th {\n",
       "        text-align: right;\n",
       "    }\n",
       "</style>\n",
       "<table border=\"1\" class=\"dataframe\">\n",
       "  <thead>\n",
       "    <tr style=\"text-align: right;\">\n",
       "      <th></th>\n",
       "      <th>Name</th>\n",
       "      <th>Color</th>\n",
       "      <th>Rarity</th>\n",
       "      <th>Jon</th>\n",
       "      <th>Josh</th>\n",
       "      <th>Kevin</th>\n",
       "      <th>Nate</th>\n",
       "      <th>Jon_num</th>\n",
       "      <th>Josh_num</th>\n",
       "      <th>Kevin_num</th>\n",
       "      <th>Nate_num</th>\n",
       "    </tr>\n",
       "  </thead>\n",
       "  <tbody>\n",
       "    <tr>\n",
       "      <th>0</th>\n",
       "      <td>Novice Inspector</td>\n",
       "      <td>W</td>\n",
       "      <td>C</td>\n",
       "      <td>B-</td>\n",
       "      <td>C</td>\n",
       "      <td>B-</td>\n",
       "      <td>B-</td>\n",
       "      <td>7.0</td>\n",
       "      <td>5.0</td>\n",
       "      <td>7.0</td>\n",
       "      <td>7.0</td>\n",
       "    </tr>\n",
       "    <tr>\n",
       "      <th>1</th>\n",
       "      <td>Auspicious Arrival</td>\n",
       "      <td>W</td>\n",
       "      <td>C</td>\n",
       "      <td>C</td>\n",
       "      <td>C-</td>\n",
       "      <td>C-</td>\n",
       "      <td>D-</td>\n",
       "      <td>5.0</td>\n",
       "      <td>4.0</td>\n",
       "      <td>4.0</td>\n",
       "      <td>1.0</td>\n",
       "    </tr>\n",
       "    <tr>\n",
       "      <th>2</th>\n",
       "      <td>Marketwatch Phantom</td>\n",
       "      <td>W</td>\n",
       "      <td>C</td>\n",
       "      <td>C+</td>\n",
       "      <td>D</td>\n",
       "      <td>C</td>\n",
       "      <td>B-</td>\n",
       "      <td>6.0</td>\n",
       "      <td>2.0</td>\n",
       "      <td>5.0</td>\n",
       "      <td>7.0</td>\n",
       "    </tr>\n",
       "    <tr>\n",
       "      <th>3</th>\n",
       "      <td>Seasoned Consultant</td>\n",
       "      <td>W</td>\n",
       "      <td>C</td>\n",
       "      <td>C</td>\n",
       "      <td>D</td>\n",
       "      <td>D+</td>\n",
       "      <td>D</td>\n",
       "      <td>5.0</td>\n",
       "      <td>2.0</td>\n",
       "      <td>3.0</td>\n",
       "      <td>2.0</td>\n",
       "    </tr>\n",
       "    <tr>\n",
       "      <th>4</th>\n",
       "      <td>Due Diligence</td>\n",
       "      <td>W</td>\n",
       "      <td>C</td>\n",
       "      <td>D</td>\n",
       "      <td>D</td>\n",
       "      <td>D</td>\n",
       "      <td>D-</td>\n",
       "      <td>2.0</td>\n",
       "      <td>2.0</td>\n",
       "      <td>2.0</td>\n",
       "      <td>1.0</td>\n",
       "    </tr>\n",
       "    <tr>\n",
       "      <th>...</th>\n",
       "      <td>...</td>\n",
       "      <td>...</td>\n",
       "      <td>...</td>\n",
       "      <td>...</td>\n",
       "      <td>...</td>\n",
       "      <td>...</td>\n",
       "      <td>...</td>\n",
       "      <td>...</td>\n",
       "      <td>...</td>\n",
       "      <td>...</td>\n",
       "      <td>...</td>\n",
       "    </tr>\n",
       "    <tr>\n",
       "      <th>188</th>\n",
       "      <td>Case of the Shattered Pact</td>\n",
       "      <td>C</td>\n",
       "      <td>U</td>\n",
       "      <td>D</td>\n",
       "      <td>D+</td>\n",
       "      <td>D+</td>\n",
       "      <td>C</td>\n",
       "      <td>2.0</td>\n",
       "      <td>3.0</td>\n",
       "      <td>3.0</td>\n",
       "      <td>5.0</td>\n",
       "    </tr>\n",
       "    <tr>\n",
       "      <th>189</th>\n",
       "      <td>Lumbering Laundry</td>\n",
       "      <td>C</td>\n",
       "      <td>U</td>\n",
       "      <td>D</td>\n",
       "      <td>D</td>\n",
       "      <td>D+</td>\n",
       "      <td>D</td>\n",
       "      <td>2.0</td>\n",
       "      <td>2.0</td>\n",
       "      <td>3.0</td>\n",
       "      <td>2.0</td>\n",
       "    </tr>\n",
       "    <tr>\n",
       "      <th>190</th>\n",
       "      <td>Magnetic Snuffler</td>\n",
       "      <td>C</td>\n",
       "      <td>U</td>\n",
       "      <td>C-</td>\n",
       "      <td>D</td>\n",
       "      <td>D+</td>\n",
       "      <td>D</td>\n",
       "      <td>4.0</td>\n",
       "      <td>2.0</td>\n",
       "      <td>3.0</td>\n",
       "      <td>2.0</td>\n",
       "    </tr>\n",
       "    <tr>\n",
       "      <th>191</th>\n",
       "      <td>Branch of Vitu-Ghazi</td>\n",
       "      <td>L</td>\n",
       "      <td>U</td>\n",
       "      <td>C-</td>\n",
       "      <td>C+</td>\n",
       "      <td>C+</td>\n",
       "      <td>D+</td>\n",
       "      <td>4.0</td>\n",
       "      <td>6.0</td>\n",
       "      <td>6.0</td>\n",
       "      <td>3.0</td>\n",
       "    </tr>\n",
       "    <tr>\n",
       "      <th>192</th>\n",
       "      <td>Scene of the Crime</td>\n",
       "      <td>L</td>\n",
       "      <td>U</td>\n",
       "      <td>C-</td>\n",
       "      <td>D-</td>\n",
       "      <td>C+</td>\n",
       "      <td>D+</td>\n",
       "      <td>4.0</td>\n",
       "      <td>1.0</td>\n",
       "      <td>6.0</td>\n",
       "      <td>3.0</td>\n",
       "    </tr>\n",
       "  </tbody>\n",
       "</table>\n",
       "<p>181 rows × 11 columns</p>\n",
       "</div>"
      ],
      "text/plain": [
       "                           Name Color Rarity Jon Josh Kevin Nate  Jon_num  \\\n",
       "0              Novice Inspector     W      C  B-    C    B-   B-      7.0   \n",
       "1            Auspicious Arrival     W      C   C   C-    C-   D-      5.0   \n",
       "2           Marketwatch Phantom     W      C  C+    D     C   B-      6.0   \n",
       "3           Seasoned Consultant     W      C   C    D    D+    D      5.0   \n",
       "4                 Due Diligence     W      C   D    D     D   D-      2.0   \n",
       "..                          ...   ...    ...  ..  ...   ...  ...      ...   \n",
       "188  Case of the Shattered Pact     C      U   D   D+    D+    C      2.0   \n",
       "189           Lumbering Laundry     C      U   D    D    D+    D      2.0   \n",
       "190           Magnetic Snuffler     C      U  C-    D    D+    D      4.0   \n",
       "191        Branch of Vitu-Ghazi     L      U  C-   C+    C+   D+      4.0   \n",
       "192          Scene of the Crime     L      U  C-   D-    C+   D+      4.0   \n",
       "\n",
       "     Josh_num  Kevin_num  Nate_num  \n",
       "0         5.0        7.0       7.0  \n",
       "1         4.0        4.0       1.0  \n",
       "2         2.0        5.0       7.0  \n",
       "3         2.0        3.0       2.0  \n",
       "4         2.0        2.0       1.0  \n",
       "..        ...        ...       ...  \n",
       "188       3.0        3.0       5.0  \n",
       "189       2.0        3.0       2.0  \n",
       "190       2.0        3.0       2.0  \n",
       "191       6.0        6.0       3.0  \n",
       "192       1.0        6.0       3.0  \n",
       "\n",
       "[181 rows x 11 columns]"
      ]
     },
     "execution_count": 1,
     "metadata": {},
     "output_type": "execute_result"
    }
   ],
   "source": [
    "import pandas as pd\n",
    "import matplotlib.pyplot as plt\n",
    "\n",
    "c = pd.read_csv('data/MKM_Kevin_commons.csv')\n",
    "u = pd.read_csv('data/MKM_Kevin_uncommons.csv')\n",
    "eos = pd.concat([c, u], ignore_index=True)\n",
    "eos = eos[['Name', 'Color', 'Rarity']]\n",
    "\n",
    "# raters\n",
    "raters = ['Jon', 'Josh', 'Kevin', 'Nate']\n",
    "\n",
    "for rater in raters:\n",
    "    c = pd.read_csv('data/MKM_' + rater + '_commons.csv')\n",
    "    u = pd.read_csv('data/MKM_' + rater + '_uncommons.csv')\n",
    "    temp = pd.concat([c, u], ignore_index=True)\n",
    "    eos[rater] = temp[rater]\n",
    "tier_num = {'F': 0., 'G':0., 'G+':0., 'D-': 1., 'D': 2., 'D+': 3., \n",
    "            'C-': 4., 'C': 5., 'C+': 6., 'B-': 7., 'B': 8., 'B+': 9., \n",
    "            'A-': 10., 'A': 11., 'A+': 12.}\n",
    "for rater in raters:\n",
    "    eos[str(rater) + '_num'] = eos[rater].map(tier_num)\n",
    "eos = eos.dropna().copy()\n",
    "eos"
   ]
  },
  {
   "cell_type": "markdown",
   "metadata": {},
   "source": [
    "# General Analysis\n",
    "\n",
    "### Favorite Color\n",
    "- Jon: Red and Blue (tie)\n",
    "- Josh: Black\n",
    "- Kevin: Black\n",
    "- Nate: White\n"
   ]
  },
  {
   "cell_type": "code",
   "execution_count": 2,
   "metadata": {},
   "outputs": [
    {
     "data": {
      "image/png": "[encoded data removed]",
      "text/plain": [
       "<Figure size 1200x600 with 1 Axes>"
      ]
     },
     "metadata": {},
     "output_type": "display_data"
    }
   ],
   "source": [
    "clean = eos.copy()\n",
    "pivot_df = clean.pivot_table(index='Color', values=[rater + '_num' for rater in raters], aggfunc='sum')\n",
    "ax = pivot_df.plot(kind='bar', figsize=(12, 6), width=0.8)\n",
    "plt.title('Sum of Ratings by Color')\n",
    "plt.xlabel('Color')\n",
    "plt.ylabel('Sum of Ratings')\n",
    "plt.legend(title='Rater')\n",
    "for p in ax.patches:\n",
    "    ax.annotate(str(int(p.get_height())), (p.get_x() + p.get_width() / 2., p.get_height()),\n",
    "                ha='center', va='center', xytext=(0, 10), textcoords='offset points')\n",
    "plt.show()"
   ]
  },
  {
   "cell_type": "markdown",
   "metadata": {},
   "source": [
    "## Strongest Color Pairs "
   ]
  },
  {
   "cell_type": "code",
   "execution_count": 3,
   "metadata": {},
   "outputs": [
    {
     "data": {
      "text/plain": [
       "{('R', 'B'): 230.75,\n",
       " ('B', 'U'): 230.0,\n",
       " ('R', 'U'): 227.75,\n",
       " ('W', 'B'): 226.75,\n",
       " ('W', 'R'): 224.5,\n",
       " ('W', 'U'): 223.75,\n",
       " ('B', 'G'): 217.5,\n",
       " ('R', 'G'): 215.25,\n",
       " ('U', 'G'): 214.5,\n",
       " ('W', 'G'): 211.25}"
      ]
     },
     "execution_count": 3,
     "metadata": {},
     "output_type": "execute_result"
    }
   ],
   "source": [
    "from itertools import combinations\n",
    "colors = ['W', 'R', 'B', 'U', 'G']\n",
    "eos['Group'] = eos[[rater + '_num' for rater in raters]].sum(axis=1) / len(raters)\n",
    "color_pairs = list(combinations(colors, 2))\n",
    "color_pair_scores = {}\n",
    "for pair in color_pairs:\n",
    "    color1, color2 = pair\n",
    "    pair_column_name = f'{color1}_{color2}_total_score'\n",
    "    pair_rows = eos[(eos['Color'] == color1) | (eos['Color'] == color2)]\n",
    "    total_score = pair_rows['Group'].sum()\n",
    "    color_pair_scores[pair] = total_score\n",
    "\n",
    "sorted_color_pair_scores = dict(sorted(color_pair_scores.items(), key=lambda item: item[1], reverse=True))\n",
    "sorted_color_pair_scores"
   ]
  },
  {
   "cell_type": "markdown",
   "metadata": {},
   "source": [
    "## Nicest/ Meanest Grader\n",
    "- Nicest: Kevin\n",
    "- Meanest: Nate"
   ]
  },
  {
   "cell_type": "code",
   "execution_count": 4,
   "metadata": {},
   "outputs": [
    {
     "data": {
      "image/png": "[encoded data removed]",
      "text/plain": [
       "<Figure size 1000x600 with 1 Axes>"
      ]
     },
     "metadata": {},
     "output_type": "display_data"
    }
   ],
   "source": [
    "sum_by_rater = clean[[rater + '_num' for rater in raters]].sum()\n",
    "sum_by_rater.plot(kind='bar', figsize=(10, 6), color='skyblue')\n",
    "plt.title('Sum of Ratings by Rater')\n",
    "plt.xlabel('Rater')\n",
    "plt.ylabel('Sum of Ratings')\n",
    "plt.ylim(bottom=750, top=850)\n",
    "plt.show()"
   ]
  },
  {
   "cell_type": "markdown",
   "metadata": {},
   "source": [
    "## Best Commons by Color"
   ]
  },
  {
   "cell_type": "code",
   "execution_count": 5,
   "metadata": {},
   "outputs": [
    {
     "name": "stdout",
     "output_type": "stream",
     "text": [
      "                  Name Color  Group\n",
      "                Murder     B   7.50\n",
      "Slice from the Shadows     B   5.25\n",
      "  Extract a Confession     B   4.75\n",
      "    Gravestone Strider     C   2.50\n",
      "          Thinking Cap     C   2.00\n",
      "  Sanitation Automaton     C   2.00\n",
      "    Fanatical Strength     G   5.00\n",
      "       Topiary Panther     G   4.75\n",
      "        Tunnel Tipster     G   4.50\n",
      "         Escape Tunnel     L   5.75\n",
      "   Public Thoroughfare     L   4.25\n",
      "     Gadget Technician     M   7.50\n",
      "       Sanguine Savior     M   6.75\n",
      "            Dog Walker     M   6.25\n",
      "             Galvanize     R   7.75\n",
      "                 Shock     R   7.25\n",
      "    Person of Interest     R   5.00\n",
      "     Cold Case Cracker     U   6.25\n",
      "   Crimestopper Sprite     U   5.75\n",
      "   Dramatic Accusation     U   5.00\n",
      "      Novice Inspector     W   6.50\n",
      "     Makeshift Binding     W   6.50\n",
      "   Marketwatch Phantom     W   5.00\n"
     ]
    }
   ],
   "source": [
    "eos_commons = eos[eos['Rarity'] == 'C']\n",
    "top_cards_by_color = eos_commons.groupby('Color').apply(lambda x: x.nlargest(3, 'Group')).reset_index(drop=True)\n",
    "print(top_cards_by_color[['Name', 'Color', 'Group']].to_string(index=False))"
   ]
  },
  {
   "cell_type": "markdown",
   "metadata": {},
   "source": [
    "## Best Uncommons by Color\n"
   ]
  },
  {
   "cell_type": "code",
   "execution_count": 6,
   "metadata": {},
   "outputs": [
    {
     "name": "stdout",
     "output_type": "stream",
     "text": [
      "                       Name Color  Group\n",
      "               Long Goodbye     B   6.75\n",
      "           Leering Onlooker     B   6.25\n",
      "        Clandestine Meddler     B   6.25\n",
      " Case of the Shattered Pact     C   3.25\n",
      "          Magnetic Snuffler     C   2.75\n",
      "          Lumbering Laundry     C   2.25\n",
      "      Hard-Hitting Question     G   7.00\n",
      "          Greenbelt Radical     G   6.75\n",
      "Case of the Trampled Garden     G   6.50\n",
      "       Branch of Vitu-Ghazi     L   4.75\n",
      "         Scene of the Crime     L   3.50\n",
      "        Deadly Complication     M   8.25\n",
      "            Lightning Helix     M   8.00\n",
      "         Gleaming Geardrake     M   7.75\n",
      "          Torch the Witness     R   6.25\n",
      "         Harried Dronesmith     R   6.25\n",
      "  Case of the Burning Masks     R   6.00\n",
      "            Exit Specialist     U   7.00\n",
      "       Surveillance Monitor     U   6.50\n",
      " Case of the Filched Falcon     U   6.25\n",
      "            Not on My Watch     W   5.75\n",
      "Case of the Gateway Express     W   5.50\n",
      "            Karlov Watchdog     W   5.25\n"
     ]
    }
   ],
   "source": [
    "eos_uncommons = eos[eos['Rarity'] == 'U']\n",
    "top_cards_by_color = eos_uncommons.groupby('Color').apply(lambda x: x.nlargest(3, 'Group')).reset_index(drop=True)\n",
    "print(top_cards_by_color[['Name', 'Color', 'Group']].to_string(index=False))"
   ]
  },
  {
   "cell_type": "markdown",
   "metadata": {},
   "source": [
    "## Goodest Art "
   ]
  },
  {
   "cell_type": "code",
   "execution_count": 7,
   "metadata": {},
   "outputs": [
    {
     "name": "stdout",
     "output_type": "stream",
     "text": [
      "            Name  Group\n",
      "Magnifying Glass    1.0\n",
      " Behind the Mask    1.5\n",
      " The Chase Is On    1.5\n"
     ]
    }
   ],
   "source": [
    "sorted_eos = eos.sort_values(by='Group', ascending=True).copy()\n",
    "print(sorted_eos[['Name', 'Group']][:3].to_string(index=False))"
   ]
  },
  {
   "cell_type": "markdown",
   "metadata": {},
   "source": [
    "## Highest Variance"
   ]
  },
  {
   "cell_type": "code",
   "execution_count": 8,
   "metadata": {},
   "outputs": [
    {
     "name": "stdout",
     "output_type": "stream",
     "text": [
      "                       Name  Variance\n",
      "       Undercover Crocodelf  8.666667\n",
      "                Festerleech  8.333333\n",
      "       Undercity Eliminator  8.000000\n",
      "              Polygraph Orb  7.583333\n",
      "       Essence of Antiquity  7.333333\n",
      "   Eliminate the Impossible  6.916667\n",
      "             Cornered Crook  6.250000\n",
      "      Suspicious Detonation  6.250000\n",
      "            Coerced to Kill  5.666667\n",
      "          Case File Auditor  5.666667\n",
      "Case of the Trampled Garden  5.666667\n",
      "  Case of the Gorgon's Kiss  5.666667\n",
      "              Inside Source  5.583333\n",
      "         Harried Dronesmith  4.916667\n",
      "           Agency Outfitter  4.666667\n"
     ]
    }
   ],
   "source": [
    "eos['Variance'] = eos[[rater + '_num' for rater in raters]].var(axis=1)\n",
    "sorted_eos = eos.sort_values(by='Variance', ascending=False).copy()\n",
    "print(sorted_eos[['Name', 'Variance']][:15].to_string(index=False))"
   ]
  },
  {
   "cell_type": "markdown",
   "metadata": {},
   "source": [
    "## Hottest Takes \n"
   ]
  },
  {
   "cell_type": "code",
   "execution_count": 9,
   "metadata": {},
   "outputs": [
    {
     "name": "stdout",
     "output_type": "stream",
     "text": [
      "                 Name  Jon_Hot_Take\n",
      " Essence of Antiquity      5.333333\n",
      "          Festerleech      4.666667\n",
      "Suspicious Detonation      4.333333\n",
      "\n",
      "                     Name  Josh_Hot_Take\n",
      "        Case File Auditor       4.666667\n",
      "Case of the Gorgon's Kiss       4.666667\n",
      "      Marketwatch Phantom       4.000000\n",
      "\n",
      "                Name  Kevin_Hot_Take\n",
      "Undercover Crocodelf        5.333333\n",
      "         Festerleech        4.666667\n",
      "    Agency Outfitter        4.000000\n",
      "\n",
      "                       Name  Nate_Hot_Take\n",
      "       Undercity Eliminator       5.333333\n",
      "Case of the Trampled Garden       4.666667\n",
      "              Polygraph Orb       4.333333\n",
      "\n"
     ]
    }
   ],
   "source": [
    "for rater in raters:\n",
    "    other_raters = [col for col in eos.columns if col.endswith('_num') and col != f'{rater}_num']\n",
    "    eos[f'{rater}_mean'] = eos[other_raters].mean(axis=1)\n",
    "\n",
    "for rater in raters:\n",
    "    eos[f'{rater}_Hot_Take'] = abs(eos[f'{rater}_num'] - eos[f'{rater}_mean'])\n",
    "\n",
    "for rater in raters:\n",
    "    sorted_eos = eos.sort_values(by= rater + '_Hot_Take', ascending=False).copy()\n",
    "    print(sorted_eos[['Name', rater + '_Hot_Take']][:3].to_string(index=False))\n",
    "    print()"
   ]
  },
  {
   "cell_type": "code",
   "execution_count": null,
   "metadata": {},
   "outputs": [],
   "source": []
  }
 ],
 "metadata": {
  "kernelspec": {
   "display_name": "ML",
   "language": "python",
   "name": "python3"
  },
  "language_info": {
   "codemirror_mode": {
    "name": "ipython",
    "version": 3
   },
   "file_extension": ".py",
   "mimetype": "text/x-python",
   "name": "python",
   "nbconvert_exporter": "python",
   "pygments_lexer": "ipython3",
   "version": "3.7.16"
  }
 },
 "nbformat": 4,
 "nbformat_minor": 2
}
