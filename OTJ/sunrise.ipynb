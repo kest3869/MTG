{
 "cells": [
  {
   "cell_type": "markdown",
   "metadata": {},
   "source": [
    "# The Epitome of Salt's Sunrise Show: Outlaws at Thunder Junction (OTJ)\n",
    "## Author: Kevin Stull\n",
    "## Guests: Nate \n",
    "## Card Names\n",
    "https://sealeddeck.tech/sets/otj"
   ]
  },
  {
   "cell_type": "code",
   "execution_count": 36,
   "metadata": {},
   "outputs": [],
   "source": [
    "# raters\n",
    "raters = ['Kevin', 'Nate']"
   ]
  },
  {
   "cell_type": "code",
   "execution_count": 37,
   "metadata": {},
   "outputs": [
    {
     "data": {
      "text/html": [
       "<div>\n",
       "<style scoped>\n",
       "    .dataframe tbody tr th:only-of-type {\n",
       "        vertical-align: middle;\n",
       "    }\n",
       "\n",
       "    .dataframe tbody tr th {\n",
       "        vertical-align: top;\n",
       "    }\n",
       "\n",
       "    .dataframe thead th {\n",
       "        text-align: right;\n",
       "    }\n",
       "</style>\n",
       "<table border=\"1\" class=\"dataframe\">\n",
       "  <thead>\n",
       "    <tr style=\"text-align: right;\">\n",
       "      <th></th>\n",
       "      <th>Name</th>\n",
       "      <th>Color</th>\n",
       "      <th>Rarity</th>\n",
       "      <th>Kevin</th>\n",
       "      <th>Kevin_num</th>\n",
       "      <th>Nate</th>\n",
       "      <th>Nate_num</th>\n",
       "    </tr>\n",
       "  </thead>\n",
       "  <tbody>\n",
       "    <tr>\n",
       "      <th>0</th>\n",
       "      <td>Armored Armadillo</td>\n",
       "      <td>W</td>\n",
       "      <td>C</td>\n",
       "      <td>D</td>\n",
       "      <td>2.0</td>\n",
       "      <td>D+</td>\n",
       "      <td>3.0</td>\n",
       "    </tr>\n",
       "    <tr>\n",
       "      <th>1</th>\n",
       "      <td>Steer Clear</td>\n",
       "      <td>W</td>\n",
       "      <td>C</td>\n",
       "      <td>C-</td>\n",
       "      <td>4.0</td>\n",
       "      <td>C-</td>\n",
       "      <td>4.0</td>\n",
       "    </tr>\n",
       "    <tr>\n",
       "      <th>2</th>\n",
       "      <td>Eriette's Lullaby</td>\n",
       "      <td>W</td>\n",
       "      <td>C</td>\n",
       "      <td>C-</td>\n",
       "      <td>4.0</td>\n",
       "      <td>C-</td>\n",
       "      <td>4.0</td>\n",
       "    </tr>\n",
       "    <tr>\n",
       "      <th>3</th>\n",
       "      <td>Outlaw Medic</td>\n",
       "      <td>W</td>\n",
       "      <td>C</td>\n",
       "      <td>C</td>\n",
       "      <td>5.0</td>\n",
       "      <td>C+</td>\n",
       "      <td>6.0</td>\n",
       "    </tr>\n",
       "    <tr>\n",
       "      <th>4</th>\n",
       "      <td>Sterling Keykeeper</td>\n",
       "      <td>W</td>\n",
       "      <td>C</td>\n",
       "      <td>C-</td>\n",
       "      <td>4.0</td>\n",
       "      <td>C-</td>\n",
       "      <td>4.0</td>\n",
       "    </tr>\n",
       "    <tr>\n",
       "      <th>...</th>\n",
       "      <td>...</td>\n",
       "      <td>...</td>\n",
       "      <td>...</td>\n",
       "      <td>...</td>\n",
       "      <td>...</td>\n",
       "      <td>...</td>\n",
       "      <td>...</td>\n",
       "    </tr>\n",
       "    <tr>\n",
       "      <th>266</th>\n",
       "      <td>Blooming Marsh</td>\n",
       "      <td>L</td>\n",
       "      <td>R</td>\n",
       "      <td>B</td>\n",
       "      <td>8.0</td>\n",
       "      <td>C-</td>\n",
       "      <td>4.0</td>\n",
       "    </tr>\n",
       "    <tr>\n",
       "      <th>267</th>\n",
       "      <td>Botanical Sanctum</td>\n",
       "      <td>L</td>\n",
       "      <td>R</td>\n",
       "      <td>C+</td>\n",
       "      <td>6.0</td>\n",
       "      <td>C-</td>\n",
       "      <td>4.0</td>\n",
       "    </tr>\n",
       "    <tr>\n",
       "      <th>268</th>\n",
       "      <td>Concealed Courtyard</td>\n",
       "      <td>L</td>\n",
       "      <td>R</td>\n",
       "      <td>B-</td>\n",
       "      <td>7.0</td>\n",
       "      <td>C-</td>\n",
       "      <td>4.0</td>\n",
       "    </tr>\n",
       "    <tr>\n",
       "      <th>269</th>\n",
       "      <td>Inspiring Vantage</td>\n",
       "      <td>L</td>\n",
       "      <td>R</td>\n",
       "      <td>B</td>\n",
       "      <td>8.0</td>\n",
       "      <td>C-</td>\n",
       "      <td>4.0</td>\n",
       "    </tr>\n",
       "    <tr>\n",
       "      <th>270</th>\n",
       "      <td>Spirebluff Canal</td>\n",
       "      <td>L</td>\n",
       "      <td>R</td>\n",
       "      <td>B-</td>\n",
       "      <td>7.0</td>\n",
       "      <td>C-</td>\n",
       "      <td>4.0</td>\n",
       "    </tr>\n",
       "  </tbody>\n",
       "</table>\n",
       "<p>271 rows × 7 columns</p>\n",
       "</div>"
      ],
      "text/plain": [
       "                    Name Color Rarity Kevin  Kevin_num Nate  Nate_num\n",
       "0      Armored Armadillo     W      C     D        2.0   D+       3.0\n",
       "1            Steer Clear     W      C    C-        4.0   C-       4.0\n",
       "2      Eriette's Lullaby     W      C    C-        4.0   C-       4.0\n",
       "3           Outlaw Medic     W      C     C        5.0   C+       6.0\n",
       "4     Sterling Keykeeper     W      C    C-        4.0   C-       4.0\n",
       "..                   ...   ...    ...   ...        ...  ...       ...\n",
       "266       Blooming Marsh     L      R     B        8.0   C-       4.0\n",
       "267    Botanical Sanctum     L      R    C+        6.0   C-       4.0\n",
       "268  Concealed Courtyard     L      R    B-        7.0   C-       4.0\n",
       "269    Inspiring Vantage     L      R     B        8.0   C-       4.0\n",
       "270     Spirebluff Canal     L      R    B-        7.0   C-       4.0\n",
       "\n",
       "[271 rows x 7 columns]"
      ]
     },
     "execution_count": 37,
     "metadata": {},
     "output_type": "execute_result"
    }
   ],
   "source": [
    "import pandas as pd\n",
    "import matplotlib.pyplot as plt\n",
    "from itertools import combinations\n",
    "\n",
    "def read_ratings(rater):\n",
    "    return pd.read_csv(f'data/{rater}.csv')\n",
    "\n",
    "eos = pd.DataFrame(columns=['Name', 'Color', 'Rarity'])\n",
    "tier_num = {'G':0., 'D-': 1., 'D': 2., 'D+': 3., \n",
    "            'C-': 4., 'C': 5., 'C+': 6., 'B-': 7., \n",
    "            'B': 8., 'B+': 9., 'A-': 10., 'A': 11., \n",
    "            'A+': 12.}\n",
    "_=True\n",
    "for rater in raters:\n",
    "    rater_data = read_ratings(rater)\n",
    "    if _:\n",
    "        eos['Name'] = rater_data['Name']\n",
    "        eos['Color'] = rater_data['Color']\n",
    "        eos['Rarity'] = rater_data['Rarity']\n",
    "        _ = False\n",
    "    eos[rater] = rater_data['Rating']\n",
    "    eos[f'{rater}_num'] = eos[rater].map(tier_num)\n",
    "eos = eos.dropna().copy()\n",
    "eos"
   ]
  },
  {
   "cell_type": "markdown",
   "metadata": {},
   "source": [
    "## Strongest Color Pairs"
   ]
  },
  {
   "cell_type": "code",
   "execution_count": 38,
   "metadata": {},
   "outputs": [
    {
     "data": {
      "text/plain": [
       "{('R', 'B'): 443.0,\n",
       " ('R', 'G'): 441.5,\n",
       " ('B', 'G'): 432.5,\n",
       " ('W', 'R'): 425.5,\n",
       " ('R', 'U'): 424.0,\n",
       " ('W', 'B'): 416.5,\n",
       " ('W', 'G'): 415.0,\n",
       " ('B', 'U'): 415.0,\n",
       " ('U', 'G'): 413.5,\n",
       " ('W', 'U'): 397.5}"
      ]
     },
     "execution_count": 38,
     "metadata": {},
     "output_type": "execute_result"
    }
   ],
   "source": [
    "colors = ['W', 'R', 'B', 'U', 'G']\n",
    "eos['Group'] = eos[[rater + '_num' for rater in raters]].sum(axis=1) / len(raters)\n",
    "color_pairs = list(combinations(colors, 2))\n",
    "color_pair_scores = {}\n",
    "for pair in color_pairs:\n",
    "    color1, color2 = pair\n",
    "    pair_column_name = f'{color1}_{color2}_total_score'\n",
    "    pair_rows = eos[(eos['Color'] == color1) | (eos['Color'] == color2)]\n",
    "    total_score = pair_rows['Group'].sum()\n",
    "    color_pair_scores[pair] = total_score\n",
    "\n",
    "sorted_color_pair_scores = dict(sorted(color_pair_scores.items(), key=lambda item: item[1], reverse=True))\n",
    "sorted_color_pair_scores"
   ]
  },
  {
   "cell_type": "markdown",
   "metadata": {},
   "source": [
    "## Best Commons by Color"
   ]
  },
  {
   "cell_type": "code",
   "execution_count": 39,
   "metadata": {},
   "outputs": [
    {
     "name": "stdout",
     "output_type": "stream",
     "text": [
      "                 Name Color  Group\n",
      "       Oasis Gardener     A    3.5\n",
      "        Silver Deputy     A    3.0\n",
      "       Sterling Hound     A    3.0\n",
      "         Desert's Due     B    7.0\n",
      "      Vault Plunderer     B    7.0\n",
      "Desperate Bloodseeker     B    6.5\n",
      "   Hardbristle Bandit     G    6.0\n",
      "Throw from the Saddle     G    6.0\n",
      "   Spinewoods Paladin     G    6.0\n",
      "       Abraded Bluffs     L    6.0\n",
      "      Festering Gulch     L    6.0\n",
      "        Lonely Arroyo     L    6.0\n",
      "         Prickly Pair     R    8.5\n",
      "      Reckless Lackey     R    7.0\n",
      " Explosive Derailment     R    6.5\n",
      "         Geyser Drake     U    6.5\n",
      " Phantom Interference     U    5.5\n",
      "        Take the Fall     U    5.5\n",
      "      Mystical Tether     W    7.5\n",
      "             Holy Cow     W    6.0\n",
      "      Bridled Bighorn     W    6.0\n"
     ]
    }
   ],
   "source": [
    "eos_commons = eos[eos['Rarity'] == 'C']\n",
    "top_cards_by_color = eos_commons.groupby('Color').apply(lambda x: x.nlargest(3, 'Group')).reset_index(drop=True)\n",
    "print(top_cards_by_color[['Name', 'Color', 'Group']].to_string(index=False))"
   ]
  },
  {
   "cell_type": "markdown",
   "metadata": {},
   "source": [
    "## Best Uncommons by Color"
   ]
  },
  {
   "cell_type": "code",
   "execution_count": 40,
   "metadata": {},
   "outputs": [
    {
     "name": "stdout",
     "output_type": "stream",
     "text": [
      "                           Name Color  Group\n",
      "               Redrock Sentinel     A    4.5\n",
      "               Mobile Homestead     A    4.0\n",
      "                 Lavaspur Boots     A    3.5\n",
      "              Shoot the Sheriff     B    8.0\n",
      "               Treasure Dredger     B    7.5\n",
      "                 Forsaken Miner     B    7.0\n",
      "                 Aloe Alchemist     G    7.5\n",
      "          Intrepid Stablemaster     G    7.5\n",
      "           Outcaster Greenblade     G    6.5\n",
      "                Sandstorm Verge     L    2.5\n",
      "                  Bucolic Ranch     L    2.0\n",
      "                   Arid Archway     L    1.5\n",
      "                Honest Rutstein     M    9.0\n",
      "Vial Smasher, Gleeful Grenadier     M    8.5\n",
      "         Miriam, Herd Whisperer     M    8.0\n",
      "                 Hellspur Brute     R    8.0\n",
      "          Longhorn Sharpshooter     R    7.5\n",
      "                 Cunning Coyote     R    7.0\n",
      "           Slickshot Lockpicker     U    7.0\n",
      "              Emergent Haunting     U    6.5\n",
      "                Outlaw Stitcher     U    6.5\n",
      "             Lassoed by the Law     W    9.5\n",
      "                    Prairie Dog     W    8.0\n",
      "                Frontier Seeker     W    7.0\n"
     ]
    }
   ],
   "source": [
    "eos_uncommons = eos[eos['Rarity'] == 'U']\n",
    "top_cards_by_color = eos_uncommons.groupby('Color').apply(lambda x: x.nlargest(3, 'Group')).reset_index(drop=True)\n",
    "print(top_cards_by_color[['Name', 'Color', 'Group']].to_string(index=False))"
   ]
  },
  {
   "cell_type": "markdown",
   "metadata": {},
   "source": [
    "## Goodest Art "
   ]
  },
  {
   "cell_type": "code",
   "execution_count": 41,
   "metadata": {},
   "outputs": [
    {
     "name": "stdout",
     "output_type": "stream",
     "text": [
      "              Name  Group\n",
      "  Map the Frontier    1.0\n",
      "Deepmuck Desperado    1.5\n",
      "      Arid Archway    1.5\n"
     ]
    }
   ],
   "source": [
    "sorted_eos = eos.sort_values(by='Group', ascending=True).copy()\n",
    "print(sorted_eos[['Name', 'Group']][:3].to_string(index=False))"
   ]
  },
  {
   "cell_type": "markdown",
   "metadata": {},
   "source": [
    "## Highest Variance"
   ]
  },
  {
   "cell_type": "code",
   "execution_count": 42,
   "metadata": {},
   "outputs": [
    {
     "name": "stdout",
     "output_type": "stream",
     "text": [
      "                 Name  Variance\n",
      "     Return the Favor      24.5\n",
      "          Double Down      24.5\n",
      "   Riku of Many Paths      18.0\n",
      " The Key to the Vault      12.5\n",
      "    Great Train Heist      12.5\n",
      " Rise of the Varmints      12.5\n",
      "        At Knifepoint      12.5\n",
      "         One Last Job      12.5\n",
      "      Pillage the Bog       8.0\n",
      "Eriette, the Beguiler       8.0\n",
      "          Mirage Mesa       8.0\n",
      "  Duelist of the Mind       8.0\n",
      "          Rakish Crew       8.0\n",
      "       Annie Joins Up       8.0\n",
      "         Lively Dirge       8.0\n"
     ]
    }
   ],
   "source": [
    "eos['Variance'] = eos[[rater + '_num' for rater in raters]].var(axis=1)\n",
    "sorted_eos = eos.sort_values(by='Variance', ascending=False).copy()\n",
    "print(sorted_eos[['Name', 'Variance']][:15].to_string(index=False))"
   ]
  },
  {
   "cell_type": "markdown",
   "metadata": {},
   "source": [
    "## Hottest Takes \n"
   ]
  },
  {
   "cell_type": "code",
   "execution_count": 43,
   "metadata": {},
   "outputs": [
    {
     "name": "stdout",
     "output_type": "stream",
     "text": [
      "              Name  Kevin_Hot_Take\n",
      "  Return the Favor             7.0\n",
      "       Double Down             7.0\n",
      "Riku of Many Paths             6.0\n",
      "\n",
      "              Name  Nate_Hot_Take\n",
      "  Return the Favor            7.0\n",
      "       Double Down            7.0\n",
      "Riku of Many Paths            6.0\n",
      "\n"
     ]
    }
   ],
   "source": [
    "for rater in raters:\n",
    "    other_raters = [col for col in eos.columns if col.endswith('_num') and col != f'{rater}_num']\n",
    "    eos[f'{rater}_mean'] = eos[other_raters].mean(axis=1)\n",
    "\n",
    "for rater in raters:\n",
    "    eos[f'{rater}_Hot_Take'] = abs(eos[f'{rater}_num'] - eos[f'{rater}_mean'])\n",
    "\n",
    "for rater in raters:\n",
    "    sorted_eos = eos.sort_values(by= rater + '_Hot_Take', ascending=False).copy()\n",
    "    print(sorted_eos[['Name', rater + '_Hot_Take']][:3].to_string(index=False))\n",
    "    print()"
   ]
  },
  {
   "cell_type": "code",
   "execution_count": null,
   "metadata": {},
   "outputs": [],
   "source": []
  }
 ],
 "metadata": {
  "kernelspec": {
   "display_name": "ML",
   "language": "python",
   "name": "python3"
  },
  "language_info": {
   "codemirror_mode": {
    "name": "ipython",
    "version": 3
   },
   "file_extension": ".py",
   "mimetype": "text/x-python",
   "name": "python",
   "nbconvert_exporter": "python",
   "pygments_lexer": "ipython3",
   "version": "3.9.6"
  }
 },
 "nbformat": 4,
 "nbformat_minor": 2
}
